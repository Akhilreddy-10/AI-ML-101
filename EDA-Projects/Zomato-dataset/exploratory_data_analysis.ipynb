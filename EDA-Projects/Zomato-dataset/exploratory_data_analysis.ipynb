{
 "cells": [
  {
   "cell_type": "markdown",
   "metadata": {
    "id": "EP5dRxX1dF-1"
   },
   "source": [
    "# Exploratory-Data-Analysis\n",
    "\n",
    "A basic attempt to EDA with simple data cleaning and exploratory stuff. The dataset contains details of Zomato orders in the city of Bengaluru.\n",
    "\n",
    "\n"
   ]
  },
  {
   "cell_type": "markdown",
   "metadata": {
    "id": "mzEtq1q8ght2"
   },
   "source": [
    "# Load data from Kaggle\n",
    "*   Banglore Zomato Restaurants data"
   ]
  },
  {
   "cell_type": "code",
   "execution_count": null,
   "metadata": {
    "id": "WcY0LiaAdF-r"
   },
   "outputs": [],
   "source": [
    "!pip install kaggle --quiet"
   ]
  },
  {
   "cell_type": "code",
   "execution_count": null,
   "metadata": {
    "colab": {
     "base_uri": "https://localhost:8080/"
    },
    "id": "Rbq9EVAZdF--",
    "outputId": "3cbe8c6d-efef-414c-df0b-e4c62070e855"
   },
   "outputs": [],
   "source": [
    "!kaggle datasets download -d himanshupoddar/zomato-bangalore-restaurants"
   ]
  },
  {
   "cell_type": "code",
   "execution_count": 3,
   "metadata": {
    "colab": {
     "base_uri": "https://localhost:8080/"
    },
    "id": "nSmS3QundF-_",
    "outputId": "5442239f-4d39-487e-ddad-ff8b975dee73"
   },
   "outputs": [
    {
     "name": "stdout",
     "output_type": "stream",
     "text": [
      "Done\n"
     ]
    }
   ],
   "source": [
    "from zipfile import ZipFile\n",
    "file_name = \"zomato-bangalore-restaurants.zip\"\n",
    "\n",
    "with ZipFile(file_name,'r') as zip:\n",
    "  zip.extractall()\n",
    "  print('Done')"
   ]
  },
  {
   "cell_type": "markdown",
   "metadata": {
    "id": "1kbD9elIglrn"
   },
   "source": [
    "# Basic analysis\n",
    "\n",
    "*   Read csv file\n",
    "*   Check no. of datapoints, attributes, missing values\n",
    "*   unique values in each column\n",
    "\n",
    "\n",
    "\n",
    "\n",
    "\n"
   ]
  },
  {
   "cell_type": "code",
   "execution_count": 4,
   "metadata": {
    "id": "Tncgqi_Ie6mq"
   },
   "outputs": [],
   "source": [
    "import pandas as pd\n",
    "import numpy as np"
   ]
  },
  {
   "cell_type": "code",
   "execution_count": 53,
   "metadata": {
    "id": "R1Sam8iUfGh2"
   },
   "outputs": [],
   "source": [
    "df = pd.read_csv(\"zomato.csv\")"
   ]
  },
  {
   "cell_type": "code",
   "execution_count": 54,
   "metadata": {
    "id": "CYezoqMOuWYN"
   },
   "outputs": [],
   "source": [
    "df_copy = pd.read_csv(\"zomato.csv\")"
   ]
  },
  {
   "cell_type": "code",
   "execution_count": 55,
   "metadata": {
    "colab": {
     "base_uri": "https://localhost:8080/"
    },
    "id": "Spg1Cs2nfLvQ",
    "outputId": "d3d2a8b5-20df-475f-96a7-0b3df5ba5bd3"
   },
   "outputs": [
    {
     "data": {
      "text/plain": [
       "(51717, 17)"
      ]
     },
     "execution_count": 55,
     "metadata": {},
     "output_type": "execute_result"
    }
   ],
   "source": [
    "df.shape"
   ]
  },
  {
   "cell_type": "code",
   "execution_count": 56,
   "metadata": {
    "colab": {
     "base_uri": "https://localhost:8080/",
     "height": 652
    },
    "id": "b2t4wigvfRGr",
    "outputId": "a95962df-d903-4259-e2f0-5f1ffa1fec3f"
   },
   "outputs": [
    {
     "data": {
      "text/html": [
       "<div>\n",
       "<style scoped>\n",
       "    .dataframe tbody tr th:only-of-type {\n",
       "        vertical-align: middle;\n",
       "    }\n",
       "\n",
       "    .dataframe tbody tr th {\n",
       "        vertical-align: top;\n",
       "    }\n",
       "\n",
       "    .dataframe thead th {\n",
       "        text-align: right;\n",
       "    }\n",
       "</style>\n",
       "<table border=\"1\" class=\"dataframe\">\n",
       "  <thead>\n",
       "    <tr style=\"text-align: right;\">\n",
       "      <th></th>\n",
       "      <th>url</th>\n",
       "      <th>address</th>\n",
       "      <th>name</th>\n",
       "      <th>online_order</th>\n",
       "      <th>book_table</th>\n",
       "      <th>rate</th>\n",
       "      <th>votes</th>\n",
       "      <th>phone</th>\n",
       "      <th>location</th>\n",
       "      <th>rest_type</th>\n",
       "      <th>dish_liked</th>\n",
       "      <th>cuisines</th>\n",
       "      <th>approx_cost(for two people)</th>\n",
       "      <th>reviews_list</th>\n",
       "      <th>menu_item</th>\n",
       "      <th>listed_in(type)</th>\n",
       "      <th>listed_in(city)</th>\n",
       "    </tr>\n",
       "  </thead>\n",
       "  <tbody>\n",
       "    <tr>\n",
       "      <th>0</th>\n",
       "      <td>https://www.zomato.com/bangalore/jalsa-banasha...</td>\n",
       "      <td>942, 21st Main Road, 2nd Stage, Banashankari, ...</td>\n",
       "      <td>Jalsa</td>\n",
       "      <td>Yes</td>\n",
       "      <td>Yes</td>\n",
       "      <td>4.1/5</td>\n",
       "      <td>775</td>\n",
       "      <td>080 42297555\\r\\n+91 9743772233</td>\n",
       "      <td>Banashankari</td>\n",
       "      <td>Casual Dining</td>\n",
       "      <td>Pasta, Lunch Buffet, Masala Papad, Paneer Laja...</td>\n",
       "      <td>North Indian, Mughlai, Chinese</td>\n",
       "      <td>800</td>\n",
       "      <td>[('Rated 4.0', 'RATED\\n  A beautiful place to ...</td>\n",
       "      <td>[]</td>\n",
       "      <td>Buffet</td>\n",
       "      <td>Banashankari</td>\n",
       "    </tr>\n",
       "    <tr>\n",
       "      <th>1</th>\n",
       "      <td>https://www.zomato.com/bangalore/spice-elephan...</td>\n",
       "      <td>2nd Floor, 80 Feet Road, Near Big Bazaar, 6th ...</td>\n",
       "      <td>Spice Elephant</td>\n",
       "      <td>Yes</td>\n",
       "      <td>No</td>\n",
       "      <td>4.1/5</td>\n",
       "      <td>787</td>\n",
       "      <td>080 41714161</td>\n",
       "      <td>Banashankari</td>\n",
       "      <td>Casual Dining</td>\n",
       "      <td>Momos, Lunch Buffet, Chocolate Nirvana, Thai G...</td>\n",
       "      <td>Chinese, North Indian, Thai</td>\n",
       "      <td>800</td>\n",
       "      <td>[('Rated 4.0', 'RATED\\n  Had been here for din...</td>\n",
       "      <td>[]</td>\n",
       "      <td>Buffet</td>\n",
       "      <td>Banashankari</td>\n",
       "    </tr>\n",
       "    <tr>\n",
       "      <th>2</th>\n",
       "      <td>https://www.zomato.com/SanchurroBangalore?cont...</td>\n",
       "      <td>1112, Next to KIMS Medical College, 17th Cross...</td>\n",
       "      <td>San Churro Cafe</td>\n",
       "      <td>Yes</td>\n",
       "      <td>No</td>\n",
       "      <td>3.8/5</td>\n",
       "      <td>918</td>\n",
       "      <td>+91 9663487993</td>\n",
       "      <td>Banashankari</td>\n",
       "      <td>Cafe, Casual Dining</td>\n",
       "      <td>Churros, Cannelloni, Minestrone Soup, Hot Choc...</td>\n",
       "      <td>Cafe, Mexican, Italian</td>\n",
       "      <td>800</td>\n",
       "      <td>[('Rated 3.0', \"RATED\\n  Ambience is not that ...</td>\n",
       "      <td>[]</td>\n",
       "      <td>Buffet</td>\n",
       "      <td>Banashankari</td>\n",
       "    </tr>\n",
       "    <tr>\n",
       "      <th>3</th>\n",
       "      <td>https://www.zomato.com/bangalore/addhuri-udupi...</td>\n",
       "      <td>1st Floor, Annakuteera, 3rd Stage, Banashankar...</td>\n",
       "      <td>Addhuri Udupi Bhojana</td>\n",
       "      <td>No</td>\n",
       "      <td>No</td>\n",
       "      <td>3.7/5</td>\n",
       "      <td>88</td>\n",
       "      <td>+91 9620009302</td>\n",
       "      <td>Banashankari</td>\n",
       "      <td>Quick Bites</td>\n",
       "      <td>Masala Dosa</td>\n",
       "      <td>South Indian, North Indian</td>\n",
       "      <td>300</td>\n",
       "      <td>[('Rated 4.0', \"RATED\\n  Great food and proper...</td>\n",
       "      <td>[]</td>\n",
       "      <td>Buffet</td>\n",
       "      <td>Banashankari</td>\n",
       "    </tr>\n",
       "    <tr>\n",
       "      <th>4</th>\n",
       "      <td>https://www.zomato.com/bangalore/grand-village...</td>\n",
       "      <td>10, 3rd Floor, Lakshmi Associates, Gandhi Baza...</td>\n",
       "      <td>Grand Village</td>\n",
       "      <td>No</td>\n",
       "      <td>No</td>\n",
       "      <td>3.8/5</td>\n",
       "      <td>166</td>\n",
       "      <td>+91 8026612447\\r\\n+91 9901210005</td>\n",
       "      <td>Basavanagudi</td>\n",
       "      <td>Casual Dining</td>\n",
       "      <td>Panipuri, Gol Gappe</td>\n",
       "      <td>North Indian, Rajasthani</td>\n",
       "      <td>600</td>\n",
       "      <td>[('Rated 4.0', 'RATED\\n  Very good restaurant ...</td>\n",
       "      <td>[]</td>\n",
       "      <td>Buffet</td>\n",
       "      <td>Banashankari</td>\n",
       "    </tr>\n",
       "  </tbody>\n",
       "</table>\n",
       "</div>"
      ],
      "text/plain": [
       "                                                 url  \\\n",
       "0  https://www.zomato.com/bangalore/jalsa-banasha...   \n",
       "1  https://www.zomato.com/bangalore/spice-elephan...   \n",
       "2  https://www.zomato.com/SanchurroBangalore?cont...   \n",
       "3  https://www.zomato.com/bangalore/addhuri-udupi...   \n",
       "4  https://www.zomato.com/bangalore/grand-village...   \n",
       "\n",
       "                                             address                   name  \\\n",
       "0  942, 21st Main Road, 2nd Stage, Banashankari, ...                  Jalsa   \n",
       "1  2nd Floor, 80 Feet Road, Near Big Bazaar, 6th ...         Spice Elephant   \n",
       "2  1112, Next to KIMS Medical College, 17th Cross...        San Churro Cafe   \n",
       "3  1st Floor, Annakuteera, 3rd Stage, Banashankar...  Addhuri Udupi Bhojana   \n",
       "4  10, 3rd Floor, Lakshmi Associates, Gandhi Baza...          Grand Village   \n",
       "\n",
       "  online_order book_table   rate  votes                             phone  \\\n",
       "0          Yes        Yes  4.1/5    775    080 42297555\\r\\n+91 9743772233   \n",
       "1          Yes         No  4.1/5    787                      080 41714161   \n",
       "2          Yes         No  3.8/5    918                    +91 9663487993   \n",
       "3           No         No  3.7/5     88                    +91 9620009302   \n",
       "4           No         No  3.8/5    166  +91 8026612447\\r\\n+91 9901210005   \n",
       "\n",
       "       location            rest_type  \\\n",
       "0  Banashankari        Casual Dining   \n",
       "1  Banashankari        Casual Dining   \n",
       "2  Banashankari  Cafe, Casual Dining   \n",
       "3  Banashankari          Quick Bites   \n",
       "4  Basavanagudi        Casual Dining   \n",
       "\n",
       "                                          dish_liked  \\\n",
       "0  Pasta, Lunch Buffet, Masala Papad, Paneer Laja...   \n",
       "1  Momos, Lunch Buffet, Chocolate Nirvana, Thai G...   \n",
       "2  Churros, Cannelloni, Minestrone Soup, Hot Choc...   \n",
       "3                                        Masala Dosa   \n",
       "4                                Panipuri, Gol Gappe   \n",
       "\n",
       "                         cuisines approx_cost(for two people)  \\\n",
       "0  North Indian, Mughlai, Chinese                         800   \n",
       "1     Chinese, North Indian, Thai                         800   \n",
       "2          Cafe, Mexican, Italian                         800   \n",
       "3      South Indian, North Indian                         300   \n",
       "4        North Indian, Rajasthani                         600   \n",
       "\n",
       "                                        reviews_list menu_item  \\\n",
       "0  [('Rated 4.0', 'RATED\\n  A beautiful place to ...        []   \n",
       "1  [('Rated 4.0', 'RATED\\n  Had been here for din...        []   \n",
       "2  [('Rated 3.0', \"RATED\\n  Ambience is not that ...        []   \n",
       "3  [('Rated 4.0', \"RATED\\n  Great food and proper...        []   \n",
       "4  [('Rated 4.0', 'RATED\\n  Very good restaurant ...        []   \n",
       "\n",
       "  listed_in(type) listed_in(city)  \n",
       "0          Buffet    Banashankari  \n",
       "1          Buffet    Banashankari  \n",
       "2          Buffet    Banashankari  \n",
       "3          Buffet    Banashankari  \n",
       "4          Buffet    Banashankari  "
      ]
     },
     "execution_count": 56,
     "metadata": {},
     "output_type": "execute_result"
    }
   ],
   "source": [
    "df.head()"
   ]
  },
  {
   "cell_type": "code",
   "execution_count": 57,
   "metadata": {
    "colab": {
     "base_uri": "https://localhost:8080/"
    },
    "id": "J1hF1SpdhJQe",
    "outputId": "536b7a2d-7dad-4e6e-deb7-0721272c7d0d"
   },
   "outputs": [
    {
     "data": {
      "text/plain": [
       "17"
      ]
     },
     "execution_count": 57,
     "metadata": {},
     "output_type": "execute_result"
    }
   ],
   "source": [
    "#no. of columns\n",
    "len(df.columns)"
   ]
  },
  {
   "cell_type": "code",
   "execution_count": 58,
   "metadata": {
    "colab": {
     "base_uri": "https://localhost:8080/"
    },
    "id": "yn3H42NUh0ze",
    "outputId": "74912a9c-7c10-484a-a200-306507facb6b"
   },
   "outputs": [
    {
     "name": "stdout",
     "output_type": "stream",
     "text": [
      "<class 'pandas.core.frame.DataFrame'>\n",
      "RangeIndex: 51717 entries, 0 to 51716\n",
      "Data columns (total 17 columns):\n",
      " #   Column                       Non-Null Count  Dtype \n",
      "---  ------                       --------------  ----- \n",
      " 0   url                          51717 non-null  object\n",
      " 1   address                      51717 non-null  object\n",
      " 2   name                         51717 non-null  object\n",
      " 3   online_order                 51717 non-null  object\n",
      " 4   book_table                   51717 non-null  object\n",
      " 5   rate                         43942 non-null  object\n",
      " 6   votes                        51717 non-null  int64 \n",
      " 7   phone                        50509 non-null  object\n",
      " 8   location                     51696 non-null  object\n",
      " 9   rest_type                    51490 non-null  object\n",
      " 10  dish_liked                   23639 non-null  object\n",
      " 11  cuisines                     51672 non-null  object\n",
      " 12  approx_cost(for two people)  51371 non-null  object\n",
      " 13  reviews_list                 51717 non-null  object\n",
      " 14  menu_item                    51717 non-null  object\n",
      " 15  listed_in(type)              51717 non-null  object\n",
      " 16  listed_in(city)              51717 non-null  object\n",
      "dtypes: int64(1), object(16)\n",
      "memory usage: 6.7+ MB\n"
     ]
    }
   ],
   "source": [
    "df.info()"
   ]
  },
  {
   "cell_type": "markdown",
   "metadata": {
    "id": "USLi9JNKnWhW"
   },
   "source": [
    "**Address is not that useful as listed_in(city) is already given**\n"
   ]
  },
  {
   "cell_type": "code",
   "execution_count": 59,
   "metadata": {
    "id": "Pwzeaf_DmMau"
   },
   "outputs": [],
   "source": [
    "df = df.drop('address',axis=1)"
   ]
  },
  {
   "cell_type": "markdown",
   "metadata": {
    "id": "0ZT54C0Yov0w"
   },
   "source": [
    "**URL doesnt give any useful info. So, dropping that as well**"
   ]
  },
  {
   "cell_type": "code",
   "execution_count": 60,
   "metadata": {
    "colab": {
     "base_uri": "https://localhost:8080/"
    },
    "id": "RmqYzlWZoa5e",
    "outputId": "6899d4ad-672e-4534-8d8e-0ccbd73a5d82"
   },
   "outputs": [
    {
     "name": "stdout",
     "output_type": "stream",
     "text": [
      "<class 'pandas.core.frame.DataFrame'>\n",
      "RangeIndex: 51717 entries, 0 to 51716\n",
      "Data columns (total 15 columns):\n",
      " #   Column                       Non-Null Count  Dtype \n",
      "---  ------                       --------------  ----- \n",
      " 0   name                         51717 non-null  object\n",
      " 1   online_order                 51717 non-null  object\n",
      " 2   book_table                   51717 non-null  object\n",
      " 3   rate                         43942 non-null  object\n",
      " 4   votes                        51717 non-null  int64 \n",
      " 5   phone                        50509 non-null  object\n",
      " 6   location                     51696 non-null  object\n",
      " 7   rest_type                    51490 non-null  object\n",
      " 8   dish_liked                   23639 non-null  object\n",
      " 9   cuisines                     51672 non-null  object\n",
      " 10  approx_cost(for two people)  51371 non-null  object\n",
      " 11  reviews_list                 51717 non-null  object\n",
      " 12  menu_item                    51717 non-null  object\n",
      " 13  listed_in(type)              51717 non-null  object\n",
      " 14  listed_in(city)              51717 non-null  object\n",
      "dtypes: int64(1), object(14)\n",
      "memory usage: 5.9+ MB\n"
     ]
    }
   ],
   "source": [
    "df = df.drop('url',axis=1)\n",
    "df.info()"
   ]
  },
  {
   "cell_type": "markdown",
   "metadata": {
    "id": "kkAgLZx8pYNe"
   },
   "source": [
    "# Check the unique values in each column:"
   ]
  },
  {
   "cell_type": "code",
   "execution_count": 61,
   "metadata": {
    "colab": {
     "base_uri": "https://localhost:8080/"
    },
    "id": "y25NlTbnpC5l",
    "outputId": "e6f90666-9ad7-404b-b853-2a6d4f02b496"
   },
   "outputs": [
    {
     "name": "stdout",
     "output_type": "stream",
     "text": [
      "The number of unique values in each column are: \n",
      " name                            8792\n",
      "online_order                       2\n",
      "book_table                         2\n",
      "rate                              64\n",
      "votes                           2328\n",
      "phone                          14926\n",
      "location                          93\n",
      "rest_type                         93\n",
      "dish_liked                      5271\n",
      "cuisines                        2723\n",
      "approx_cost(for two people)       70\n",
      "reviews_list                   22513\n",
      "menu_item                       9098\n",
      "listed_in(type)                    7\n",
      "listed_in(city)                   30\n",
      "dtype: int64\n"
     ]
    }
   ],
   "source": [
    "unique_values = df.nunique(axis=0)\n",
    "print(\"The number of unique values in each column are: \\n\",unique_values)"
   ]
  },
  {
   "cell_type": "markdown",
   "metadata": {
    "id": "ILSzzgHUw53V"
   },
   "source": [
    "# Based on number "
   ]
  },
  {
   "cell_type": "markdown",
   "metadata": {
    "id": "T8uT0eQ7syRr"
   },
   "source": [
    "Phone number is also not required,\n",
    "But let's check if a restaurant which provides it's contact details \n",
    "has any advantage over the restaurants that doesn't."
   ]
  },
  {
   "cell_type": "code",
   "execution_count": 62,
   "metadata": {
    "colab": {
     "base_uri": "https://localhost:8080/"
    },
    "id": "ehTqKwivt7_d",
    "outputId": "90f38eaf-82ac-4f0d-c21e-af14034a0946"
   },
   "outputs": [
    {
     "data": {
      "text/plain": [
       "14927"
      ]
     },
     "execution_count": 62,
     "metadata": {},
     "output_type": "execute_result"
    }
   ],
   "source": [
    "len(df['phone'].unique())"
   ]
  },
  {
   "cell_type": "code",
   "execution_count": 63,
   "metadata": {
    "colab": {
     "base_uri": "https://localhost:8080/"
    },
    "id": "zFY3-6ZrqjKU",
    "outputId": "7e22a6c6-a4a4-47e8-bad7-d555524f8717"
   },
   "outputs": [
    {
     "data": {
      "text/plain": [
       "1208"
      ]
     },
     "execution_count": 63,
     "metadata": {},
     "output_type": "execute_result"
    }
   ],
   "source": [
    "df['phone'].isna().sum()"
   ]
  },
  {
   "cell_type": "code",
   "execution_count": 64,
   "metadata": {
    "colab": {
     "base_uri": "https://localhost:8080/"
    },
    "id": "PR2VD2oztz1k",
    "outputId": "f22b910c-9af0-4a2a-d83b-802ec1c74250"
   },
   "outputs": [
    {
     "data": {
      "text/plain": [
       "11495"
      ]
     },
     "execution_count": 64,
     "metadata": {},
     "output_type": "execute_result"
    }
   ],
   "source": [
    "len(df_copy['address'].unique())"
   ]
  },
  {
   "cell_type": "markdown",
   "metadata": {
    "id": "rySL4mKwygvF"
   },
   "source": [
    "Comparing the number of unique addresses, names, phone No. following assumptions can be drawn:\n",
    "\n",
    "*   Many restaurants have more than 1 branch\n",
    "*   Contact details are different for different branches under the same restaurant name\n",
    "\n"
   ]
  },
  {
   "cell_type": "markdown",
   "metadata": {},
   "source": [
    "# Convert rating to floating point data"
   ]
  },
  {
   "cell_type": "code",
   "execution_count": 65,
   "metadata": {
    "colab": {
     "base_uri": "https://localhost:8080/"
    },
    "id": "LOHZ1J9ZMbUx",
    "outputId": "26801255-1fe7-4af6-c68e-1eb9786c9246"
   },
   "outputs": [
    {
     "data": {
      "text/plain": [
       "array(['4.1/5', '3.8/5', '3.7/5', '3.6/5', '4.6/5', '4.0/5', '4.2/5',\n",
       "       '3.9/5', '3.1/5', '3.0/5', '3.2/5', '3.3/5', '2.8/5', '4.4/5',\n",
       "       '4.3/5', 'NEW', '2.9/5', '3.5/5', nan, '2.6/5', '3.8 /5', '3.4/5',\n",
       "       '4.5/5', '2.5/5', '2.7/5', '4.7/5', '2.4/5', '2.2/5', '2.3/5',\n",
       "       '3.4 /5', '-', '3.6 /5', '4.8/5', '3.9 /5', '4.2 /5', '4.0 /5',\n",
       "       '4.1 /5', '3.7 /5', '3.1 /5', '2.9 /5', '3.3 /5', '2.8 /5',\n",
       "       '3.5 /5', '2.7 /5', '2.5 /5', '3.2 /5', '2.6 /5', '4.5 /5',\n",
       "       '4.3 /5', '4.4 /5', '4.9/5', '2.1/5', '2.0/5', '1.8/5', '4.6 /5',\n",
       "       '4.9 /5', '3.0 /5', '4.8 /5', '2.3 /5', '4.7 /5', '2.4 /5',\n",
       "       '2.1 /5', '2.2 /5', '2.0 /5', '1.8 /5'], dtype=object)"
      ]
     },
     "execution_count": 65,
     "metadata": {},
     "output_type": "execute_result"
    }
   ],
   "source": [
    "df['rate'].unique()"
   ]
  },
  {
   "cell_type": "code",
   "execution_count": 66,
   "metadata": {
    "id": "T0IrC3AFNvzo"
   },
   "outputs": [],
   "source": [
    "df['rate'] = df['rate'].str[0:3]\n",
    "df['rate'] = df['rate'].replace('NEW','')\n",
    "df['rate'] = df['rate'].replace('-','')"
   ]
  },
  {
   "cell_type": "code",
   "execution_count": 67,
   "metadata": {
    "id": "xxRYglCCRpSl"
   },
   "outputs": [],
   "source": [
    "df['rate'] = df['rate'].replace(np.nan,'')"
   ]
  },
  {
   "cell_type": "code",
   "execution_count": 68,
   "metadata": {
    "colab": {
     "base_uri": "https://localhost:8080/"
    },
    "id": "FcHmfMrONvwL",
    "outputId": "36c0990e-08c9-48cb-dcf7-89dd42ac6f7f"
   },
   "outputs": [
    {
     "data": {
      "text/plain": [
       "array(['4.1', '3.8', '3.7', '3.6', '4.6', '4.0', '4.2', '3.9', '3.1',\n",
       "       '3.0', '3.2', '3.3', '2.8', '4.4', '4.3', '', '2.9', '3.5', '2.6',\n",
       "       '3.4', '4.5', '2.5', '2.7', '4.7', '2.4', '2.2', '2.3', '4.8',\n",
       "       '4.9', '2.1', '2.0', '1.8'], dtype=object)"
      ]
     },
     "execution_count": 68,
     "metadata": {},
     "output_type": "execute_result"
    }
   ],
   "source": [
    "df['rate'].unique()"
   ]
  },
  {
   "cell_type": "code",
   "execution_count": 69,
   "metadata": {
    "id": "aWiNkWTtS-Xx"
   },
   "outputs": [],
   "source": [
    "df['rate'] = pd.to_numeric(df['rate'])"
   ]
  },
  {
   "cell_type": "code",
   "execution_count": 70,
   "metadata": {
    "colab": {
     "base_uri": "https://localhost:8080/"
    },
    "id": "le8aTYQiT0Ib",
    "outputId": "5f04896a-ed8d-4dc7-edd9-bb46b10b1295"
   },
   "outputs": [
    {
     "data": {
      "text/plain": [
       "dtype('float64')"
      ]
     },
     "execution_count": 70,
     "metadata": {},
     "output_type": "execute_result"
    }
   ],
   "source": [
    "df['rate'].dtype"
   ]
  },
  {
   "cell_type": "code",
   "execution_count": 71,
   "metadata": {
    "id": "70M4EFiwVBgV"
   },
   "outputs": [],
   "source": [
    "df['phone'] = df['phone'].replace(np.nan,'-')"
   ]
  },
  {
   "cell_type": "code",
   "execution_count": 72,
   "metadata": {
    "id": "NJvukESTaVH4"
   },
   "outputs": [],
   "source": [
    "df['rate'].fillna(value=df['rate'].mean(),inplace=True)"
   ]
  },
  {
   "cell_type": "code",
   "execution_count": 73,
   "metadata": {
    "colab": {
     "base_uri": "https://localhost:8080/"
    },
    "id": "wsbbWafnbLU8",
    "outputId": "15f34a67-45e4-41a5-df7e-804e85dfdb94"
   },
   "outputs": [
    {
     "data": {
      "text/plain": [
       "0"
      ]
     },
     "execution_count": 73,
     "metadata": {},
     "output_type": "execute_result"
    }
   ],
   "source": [
    "df['rate'].isna().sum()"
   ]
  },
  {
   "cell_type": "code",
   "execution_count": 74,
   "metadata": {
    "id": "62WS1wipulMQ"
   },
   "outputs": [],
   "source": [
    "present = list()\n",
    "attribute = 'phone'\n",
    "for index in df.index:\n",
    "  if(df[attribute][index]!='-'):\n",
    "    present.append(df['rate'][index])\n"
   ]
  },
  {
   "cell_type": "code",
   "execution_count": 75,
   "metadata": {
    "id": "YmB2S8RqTaOx"
   },
   "outputs": [],
   "source": [
    "absent = list()\n",
    "attribute = 'phone'\n",
    "for index in df.index:\n",
    "  if(df[attribute][index]=='-'):\n",
    "    absent.append(df['rate'][index])"
   ]
  },
  {
   "cell_type": "code",
   "execution_count": 76,
   "metadata": {
    "id": "pWQeWBl3ToMU"
   },
   "outputs": [],
   "source": [
    "present = np.array(present)\n",
    "#present contains an array of ratings of hotels which share phone numbers "
   ]
  },
  {
   "cell_type": "code",
   "execution_count": 77,
   "metadata": {
    "id": "HE-q5DGIb1pW"
   },
   "outputs": [],
   "source": [
    "absent = np.array(absent)\n",
    "#absent contains an array of ratings of hotels which do not share phone numbers "
   ]
  },
  {
   "cell_type": "code",
   "execution_count": 78,
   "metadata": {
    "id": "PNxxm6yJb6Qt"
   },
   "outputs": [],
   "source": [
    "from scipy.stats import ttest_ind"
   ]
  },
  {
   "cell_type": "markdown",
   "metadata": {},
   "source": [
    "Checking for correlation between phone number and rating using t-test (independent t-test) with NULL hypothesis that phone number doesn't alter ratings\n",
    "\n",
    "Check out more here: https://www.scribbr.com/statistics/t-test/#:~:text=A%20t%20test%20is%20a,are%20different%20from%20one%20another."
   ]
  },
  {
   "cell_type": "code",
   "execution_count": 79,
   "metadata": {
    "colab": {
     "base_uri": "https://localhost:8080/"
    },
    "id": "dOEN5go5f8Md",
    "outputId": "a814f618-2d34-42bf-c43b-cd1f2eb17024"
   },
   "outputs": [
    {
     "name": "stdout",
     "output_type": "stream",
     "text": [
      "pval :  0.0788707174371261\n",
      "Do not reject Null Hypothesis\n"
     ]
    }
   ],
   "source": [
    "ttest, pval = ttest_ind(absent, present)\n",
    "level_of_significance = 0.05\n",
    "print(\"pval : \",pval)\n",
    "if(pval<level_of_significance):\n",
    "  print(\"Reject Null Hypothesis\")\n",
    "else:\n",
    "  print(\"Do not reject Null Hypothesis\")"
   ]
  },
  {
   "cell_type": "markdown",
   "metadata": {
    "id": "UhXiwHxRXx8J"
   },
   "source": [
    "So, **Contact details does not affect the rating of a restaurant**\n"
   ]
  },
  {
   "cell_type": "code",
   "execution_count": 80,
   "metadata": {
    "id": "ipft_5C1gr4b"
   },
   "outputs": [],
   "source": [
    "#dropping phone as it infers nothing\n",
    "df = df.drop('phone',axis=1)"
   ]
  },
  {
   "cell_type": "code",
   "execution_count": 81,
   "metadata": {
    "colab": {
     "base_uri": "https://localhost:8080/"
    },
    "id": "F-1evGzsYNUg",
    "outputId": "1bf59d5d-ddd8-40a1-a744-abe9a59cbd53"
   },
   "outputs": [
    {
     "name": "stdout",
     "output_type": "stream",
     "text": [
      "<class 'pandas.core.frame.DataFrame'>\n",
      "RangeIndex: 51717 entries, 0 to 51716\n",
      "Data columns (total 14 columns):\n",
      " #   Column                       Non-Null Count  Dtype  \n",
      "---  ------                       --------------  -----  \n",
      " 0   name                         51717 non-null  object \n",
      " 1   online_order                 51717 non-null  object \n",
      " 2   book_table                   51717 non-null  object \n",
      " 3   rate                         51717 non-null  float64\n",
      " 4   votes                        51717 non-null  int64  \n",
      " 5   location                     51696 non-null  object \n",
      " 6   rest_type                    51490 non-null  object \n",
      " 7   dish_liked                   23639 non-null  object \n",
      " 8   cuisines                     51672 non-null  object \n",
      " 9   approx_cost(for two people)  51371 non-null  object \n",
      " 10  reviews_list                 51717 non-null  object \n",
      " 11  menu_item                    51717 non-null  object \n",
      " 12  listed_in(type)              51717 non-null  object \n",
      " 13  listed_in(city)              51717 non-null  object \n",
      "dtypes: float64(1), int64(1), object(12)\n",
      "memory usage: 5.5+ MB\n"
     ]
    }
   ],
   "source": [
    "df.info()"
   ]
  },
  {
   "cell_type": "markdown",
   "metadata": {
    "id": "mY91Q6qoY-x1"
   },
   "source": [
    "# Filling empty columns\n"
   ]
  },
  {
   "cell_type": "code",
   "execution_count": 82,
   "metadata": {
    "id": "sUjXomZjY-Nt"
   },
   "outputs": [],
   "source": [
    "missing_data = df.isna().sum()/len(df)"
   ]
  },
  {
   "cell_type": "code",
   "execution_count": 83,
   "metadata": {
    "colab": {
     "base_uri": "https://localhost:8080/",
     "height": 411
    },
    "id": "I5CvLcSMYfVB",
    "outputId": "3c0f4944-0975-40e6-c633-507df8ea8186"
   },
   "outputs": [
    {
     "data": {
      "text/plain": [
       "<AxesSubplot:>"
      ]
     },
     "execution_count": 83,
     "metadata": {},
     "output_type": "execute_result"
    },
    {
     "data": {
      "image/png": "[encoded data removed]",
      "text/plain": [
       "<Figure size 432x288 with 1 Axes>"
      ]
     },
     "metadata": {
      "needs_background": "light"
     },
     "output_type": "display_data"
    }
   ],
   "source": [
    "missing_data = missing_data[missing_data!=0]\n",
    "missing_data.plot(kind='bar')\n"
   ]
  },
  {
   "cell_type": "markdown",
   "metadata": {
    "id": "KafnH0hefCJp"
   },
   "source": [
    "Half of the data in Dishes liked is missing\n",
    "\n",
    "# Check for the most liked dishes and remove the column as well"
   ]
  },
  {
   "cell_type": "code",
   "execution_count": 84,
   "metadata": {
    "id": "NeFRXDUQZW0f"
   },
   "outputs": [],
   "source": [
    "popular_dishes = df['dish_liked'].values"
   ]
  },
  {
   "cell_type": "code",
   "execution_count": 85,
   "metadata": {
    "colab": {
     "base_uri": "https://localhost:8080/"
    },
    "id": "5XC4XJdmfhOX",
    "outputId": "4a45b3fa-d1b5-4c35-b597-31b0ba801ec5"
   },
   "outputs": [
    {
     "data": {
      "text/plain": [
       "array(['Pasta, Lunch Buffet, Masala Papad, Paneer Lajawab, Tomato Shorba, Dum Biryani, Sweet Corn Soup',\n",
       "       'Momos, Lunch Buffet, Chocolate Nirvana, Thai Green Curry, Paneer Tikka, Dum Biryani, Chicken Biryani',\n",
       "       'Churros, Cannelloni, Minestrone Soup, Hot Chocolate, Pink Sauce Pasta, Salsa, Veg Supreme Pizza',\n",
       "       ..., nan, 'Cocktails, Pizza, Buttermilk', nan], dtype=object)"
      ]
     },
     "execution_count": 85,
     "metadata": {},
     "output_type": "execute_result"
    }
   ],
   "source": [
    "popular_dishes"
   ]
  },
  {
   "cell_type": "code",
   "execution_count": null,
   "metadata": {
    "colab": {
     "base_uri": "https://localhost:8080/"
    },
    "id": "fymCjuhXfpFF",
    "outputId": "335dff5c-0221-456e-e94b-de220208c9e4"
   },
   "outputs": [],
   "source": [
    "!pip install wordcloud"
   ]
  },
  {
   "cell_type": "code",
   "execution_count": 87,
   "metadata": {
    "id": "g1_v3FVUf6vE"
   },
   "outputs": [],
   "source": [
    "from wordcloud import WordCloud,STOPWORDS"
   ]
  },
  {
   "cell_type": "code",
   "execution_count": 88,
   "metadata": {
    "id": "ZNrDqSSyg0Tk"
   },
   "outputs": [],
   "source": [
    "import matplotlib.pyplot as plt"
   ]
  },
  {
   "cell_type": "markdown",
   "metadata": {},
   "source": [
    "Leran more about stopwords here: https://kavita-ganesan.com/what-are-stop-words/"
   ]
  },
  {
   "cell_type": "code",
   "execution_count": 89,
   "metadata": {
    "id": "TQ_q-2Ar2Pf8"
   },
   "outputs": [],
   "source": [
    "stopwords = set(STOPWORDS)\n",
    "stopwords.update(['Lajawab', 'Lunch']) #adding Lajawab to the list of stopwords"
   ]
  },
  {
   "cell_type": "markdown",
   "metadata": {},
   "source": [
    "Wordcloud of most favourite dishes"
   ]
  },
  {
   "cell_type": "code",
   "execution_count": 90,
   "metadata": {
    "colab": {
     "base_uri": "https://localhost:8080/",
     "height": 198
    },
    "id": "8E3Ecz3dgVDL",
    "outputId": "beb96e12-e3cb-464e-f89a-4c90d9b81d94"
   },
   "outputs": [
    {
     "data": {
      "image/png": "[encoded data removed]",
      "text/plain": [
       "<Figure size 432x288 with 1 Axes>"
      ]
     },
     "metadata": {
      "needs_background": "light"
     },
     "output_type": "display_data"
    }
   ],
   "source": [
    "wordcloud = WordCloud(stopwords=stopwords).generate(str(popular_dishes))\n",
    "plt.imshow(wordcloud)\n",
    "plt.axis(\"off\")\n",
    "plt.show()"
   ]
  },
  {
   "cell_type": "markdown",
   "metadata": {},
   "source": [
    "Removing dish_liked since its of no further use"
   ]
  },
  {
   "cell_type": "code",
   "execution_count": 91,
   "metadata": {},
   "outputs": [],
   "source": [
    "df = df.drop('dish_liked',axis=1)"
   ]
  },
  {
   "cell_type": "markdown",
   "metadata": {
    "id": "5ozrlnB-Z-qm"
   },
   "source": [
    "# Filling empty entries\n",
    "*   Convert approx_cost(for two people) to int64 and fillna with mean\n",
    "*   Fillna rest_type with \"Casual Dining\"\n",
    "*   Fillna location with most neighbourhood with large number of restaurants\n",
    "*   Fillna Cuisine with most famous cuisine\n",
    "\n"
   ]
  },
  {
   "cell_type": "code",
   "execution_count": 92,
   "metadata": {
    "id": "3PeDUBEnwzfq"
   },
   "outputs": [],
   "source": [
    "#rename \"approx_cost(for two people)\" to \"approx_cost\"\n",
    "df.rename(columns = {\"approx_cost(for two people)\":\"approx_cost\"}, inplace=True)"
   ]
  },
  {
   "cell_type": "markdown",
   "metadata": {
    "id": "nOBlRIdxcyfo"
   },
   "source": [
    "approx_cost contains elements like \"1,200\" (comma and other punctuations)\n",
    "\n",
    "function to clean them up"
   ]
  },
  {
   "cell_type": "code",
   "execution_count": 147,
   "metadata": {
    "colab": {
     "base_uri": "https://localhost:8080/"
    },
    "id": "Ag9tgqkn14lb",
    "outputId": "9d6986d7-e8ba-4a4b-de84-8076b164d111"
   },
   "outputs": [],
   "source": [
    "df['approx_cost'] = df['approx_cost'].apply(lambda x: str(x).replace(',', '') if ',' in str(x) else x)"
   ]
  },
  {
   "cell_type": "code",
   "execution_count": 148,
   "metadata": {
    "id": "OBC5MWPbb7-7"
   },
   "outputs": [],
   "source": [
    "df[\"approx_cost\"] = pd.to_numeric(df[\"approx_cost\"])"
   ]
  },
  {
   "cell_type": "markdown",
   "metadata": {},
   "source": [
    "Filling empty cells with mean value"
   ]
  },
  {
   "cell_type": "code",
   "execution_count": 96,
   "metadata": {
    "id": "3xDRE3TRgozO"
   },
   "outputs": [],
   "source": [
    "mean = df['approx_cost'].mean()\n",
    "df[\"approx_cost\"].fillna(value=mean, inplace=True)"
   ]
  },
  {
   "cell_type": "markdown",
   "metadata": {
    "id": "y-6o0LZ7imjm"
   },
   "source": [
    "Restaurant type entries are default assumed to be Casual dining"
   ]
  },
  {
   "cell_type": "code",
   "execution_count": 97,
   "metadata": {
    "id": "Nw9KhOgRiV5Y"
   },
   "outputs": [],
   "source": [
    "df[\"rest_type\"].fillna(value=\"Casual Dining\", inplace=True)"
   ]
  },
  {
   "cell_type": "markdown",
   "metadata": {
    "id": "hilpzeq5jXwt"
   },
   "source": [
    "Location "
   ]
  },
  {
   "cell_type": "code",
   "execution_count": 98,
   "metadata": {
    "id": "RfRqz1tQjJ8w"
   },
   "outputs": [],
   "source": [
    "famous_loc = df['location'].value_counts()"
   ]
  },
  {
   "cell_type": "code",
   "execution_count": 99,
   "metadata": {
    "id": "neM5N4HQkrmr"
   },
   "outputs": [],
   "source": [
    "most_famous_loc = famous_loc[:10]"
   ]
  },
  {
   "cell_type": "code",
   "execution_count": 100,
   "metadata": {
    "colab": {
     "base_uri": "https://localhost:8080/",
     "height": 728
    },
    "id": "1AlZ3SOyktNe",
    "outputId": "86db8fc0-07fb-4990-a279-551f8ad67cf5"
   },
   "outputs": [
    {
     "data": {
      "text/plain": [
       "<AxesSubplot:xlabel='Area', ylabel='No. of restaurants'>"
      ]
     },
     "execution_count": 100,
     "metadata": {},
     "output_type": "execute_result"
    },
    {
     "data": {
      "image/png": "[encoded data removed]",
      "text/plain": [
       "<Figure size 720x720 with 1 Axes>"
      ]
     },
     "metadata": {
      "needs_background": "light"
     },
     "output_type": "display_data"
    }
   ],
   "source": [
    "most_famous_loc.plot(kind = 'bar',\n",
    "                     figsize=(10,10),\n",
    "                     xlabel=\"Area\",\n",
    "                     ylabel=\"No. of restaurants\")"
   ]
  },
  {
   "cell_type": "markdown",
   "metadata": {},
   "source": [
    "Filling the empty cells with BTM as it has most number of restraunts"
   ]
  },
  {
   "cell_type": "code",
   "execution_count": 101,
   "metadata": {
    "id": "oBhDat0-lVIK"
   },
   "outputs": [],
   "source": [
    "df[\"location\"].fillna(value='BTM', inplace=True)"
   ]
  },
  {
   "cell_type": "markdown",
   "metadata": {
    "id": "EnEG-8mamdVd"
   },
   "source": [
    "Cuisine"
   ]
  },
  {
   "cell_type": "code",
   "execution_count": 102,
   "metadata": {
    "id": "awsz1MfamUjz"
   },
   "outputs": [],
   "source": [
    "food = df['cuisines'].values"
   ]
  },
  {
   "cell_type": "code",
   "execution_count": 103,
   "metadata": {
    "colab": {
     "base_uri": "https://localhost:8080/"
    },
    "id": "oz9QEsMJmjNN",
    "outputId": "7530ec3b-0d6e-4615-9197-128b9f1fe3dd"
   },
   "outputs": [
    {
     "data": {
      "text/plain": [
       "array(['North Indian, Mughlai, Chinese', 'Chinese, North Indian, Thai',\n",
       "       'Cafe, Mexican, Italian', ..., 'Finger Food', 'Finger Food',\n",
       "       'Finger Food, North Indian, Continental'], dtype=object)"
      ]
     },
     "execution_count": 103,
     "metadata": {},
     "output_type": "execute_result"
    }
   ],
   "source": [
    "food"
   ]
  },
  {
   "cell_type": "code",
   "execution_count": 104,
   "metadata": {
    "id": "xHjrEnGQs7GK"
   },
   "outputs": [],
   "source": [
    "cuisines = []\n",
    "for item in food:\n",
    "  x = str(item).split(', ')\n",
    "  for value in x:\n",
    "    cuisines.append(value)"
   ]
  },
  {
   "cell_type": "code",
   "execution_count": 105,
   "metadata": {
    "id": "9pAvP2p-s_x0"
   },
   "outputs": [],
   "source": [
    "unique_elements, frequency = np.unique(cuisines, return_counts=True)\n",
    "sorted_indexes = np.argsort(frequency)[::-1]\n",
    "sorted_by_freq = unique_elements[sorted_indexes]"
   ]
  },
  {
   "cell_type": "code",
   "execution_count": 106,
   "metadata": {
    "colab": {
     "base_uri": "https://localhost:8080/"
    },
    "id": "h89t22aHvqFu",
    "outputId": "b6712261-227e-4236-aac0-78a2ba3f3236"
   },
   "outputs": [
    {
     "data": {
      "text/plain": [
       "array(['North Indian', 'Chinese', 'South Indian', 'Fast Food', 'Biryani',\n",
       "       'Continental', 'Desserts', 'Cafe', 'Beverages', 'Italian',\n",
       "       'Bakery', 'Street Food', 'Pizza', 'Burger', 'Seafood', 'Ice Cream',\n",
       "       'Andhra', 'Mughlai', 'Rolls', 'American', 'Kerala', 'Asian',\n",
       "       'Momos', 'Finger Food', 'Juices', 'Salad', 'Arabian', 'Kebab',\n",
       "       'Mithai', 'Thai', 'Healthy Food', 'Sandwich', 'BBQ', 'European',\n",
       "       'Mangalorean', 'Bengali', 'Steak', 'Mediterranean', 'Mexican',\n",
       "       'Tea', 'Japanese', 'Tibetan', 'Hyderabadi', 'Chettinad',\n",
       "       'Rajasthani', 'Lebanese', 'Vietnamese', 'Modern Indian', 'Korean',\n",
       "       'Maharashtrian', 'Coffee', 'Oriya', 'Goan', 'Malaysian',\n",
       "       'Middle Eastern', 'Gujarati', 'Indonesian', 'Bihari', 'Turkish',\n",
       "       'Charcoal Chicken', 'French', 'Nepalese', 'Konkan', 'Afghan',\n",
       "       'North Eastern', 'Wraps', 'Lucknowi', 'Burmese', 'Tex-Mex',\n",
       "       'Singaporean', 'Spanish', 'Sushi', 'nan', 'Bar Food', 'Greek',\n",
       "       'Kashmiri', 'Awadhi', 'Iranian', 'Parsi', 'Assamese', 'Naga',\n",
       "       'Grill', 'Roast Chicken', 'South American', 'African',\n",
       "       'Sri Lankan', 'Paan', 'Mongolian', 'Portuguese', 'Drinks Only',\n",
       "       'Bubble Tea', 'Afghani', 'British', 'Tamil', 'German', 'Vegan',\n",
       "       'Jewish', 'Cantonese', 'Russian', 'Bohri', 'Australian',\n",
       "       'Raw Meats', 'Belgian', 'Sindhi', 'Pan Asian', 'Hot dogs',\n",
       "       'Malwani', 'Indian'], dtype='<U16')"
      ]
     },
     "execution_count": 106,
     "metadata": {},
     "output_type": "execute_result"
    }
   ],
   "source": [
    "sorted_by_freq"
   ]
  },
  {
   "cell_type": "code",
   "execution_count": 107,
   "metadata": {
    "id": "SaS8RvkJxpq1"
   },
   "outputs": [],
   "source": [
    "most_famous = sorted_by_freq[0]+sorted_by_freq[1]+sorted_by_freq[2]"
   ]
  },
  {
   "cell_type": "code",
   "execution_count": 108,
   "metadata": {
    "id": "41BiBt573ijQ"
   },
   "outputs": [],
   "source": [
    "df['cuisines'].fillna(value=most_famous, inplace=True)"
   ]
  },
  {
   "cell_type": "code",
   "execution_count": 109,
   "metadata": {
    "colab": {
     "base_uri": "https://localhost:8080/"
    },
    "id": "IYaSge__3nSR",
    "outputId": "d08ccb61-5f7d-4bd6-c4bd-7f7db11c3a51"
   },
   "outputs": [
    {
     "data": {
      "text/plain": [
       "name               0\n",
       "online_order       0\n",
       "book_table         0\n",
       "rate               0\n",
       "votes              0\n",
       "location           0\n",
       "rest_type          0\n",
       "cuisines           0\n",
       "approx_cost        0\n",
       "reviews_list       0\n",
       "menu_item          0\n",
       "listed_in(type)    0\n",
       "listed_in(city)    0\n",
       "dtype: int64"
      ]
     },
     "execution_count": 109,
     "metadata": {},
     "output_type": "execute_result"
    }
   ],
   "source": [
    "df.isna().sum()"
   ]
  },
  {
   "cell_type": "code",
   "execution_count": 110,
   "metadata": {
    "colab": {
     "base_uri": "https://localhost:8080/"
    },
    "id": "R2JC6aEO3qWU",
    "outputId": "2b4e36e8-28ee-4f41-f304-a1e1837f39bc"
   },
   "outputs": [
    {
     "name": "stdout",
     "output_type": "stream",
     "text": [
      "<class 'pandas.core.frame.DataFrame'>\n",
      "RangeIndex: 51717 entries, 0 to 51716\n",
      "Data columns (total 13 columns):\n",
      " #   Column           Non-Null Count  Dtype  \n",
      "---  ------           --------------  -----  \n",
      " 0   name             51717 non-null  object \n",
      " 1   online_order     51717 non-null  object \n",
      " 2   book_table       51717 non-null  object \n",
      " 3   rate             51717 non-null  float64\n",
      " 4   votes            51717 non-null  int64  \n",
      " 5   location         51717 non-null  object \n",
      " 6   rest_type        51717 non-null  object \n",
      " 7   cuisines         51717 non-null  object \n",
      " 8   approx_cost      51717 non-null  float64\n",
      " 9   reviews_list     51717 non-null  object \n",
      " 10  menu_item        51717 non-null  object \n",
      " 11  listed_in(type)  51717 non-null  object \n",
      " 12  listed_in(city)  51717 non-null  object \n",
      "dtypes: float64(2), int64(1), object(10)\n",
      "memory usage: 5.1+ MB\n"
     ]
    }
   ],
   "source": [
    "df.info()"
   ]
  },
  {
   "cell_type": "markdown",
   "metadata": {
    "id": "VsCNHY5Y5flt"
   },
   "source": [
    "# Covert online_order and book_table to bool"
   ]
  },
  {
   "cell_type": "code",
   "execution_count": 111,
   "metadata": {
    "colab": {
     "base_uri": "https://localhost:8080/"
    },
    "id": "_uZEz7X_6GQy",
    "outputId": "67ab1bf0-9b48-4241-94a6-5d0cc062d727"
   },
   "outputs": [
    {
     "data": {
      "text/plain": [
       "Yes    30444\n",
       "No     21273\n",
       "Name: online_order, dtype: int64"
      ]
     },
     "execution_count": 111,
     "metadata": {},
     "output_type": "execute_result"
    }
   ],
   "source": [
    "df[\"online_order\"].value_counts()"
   ]
  },
  {
   "cell_type": "code",
   "execution_count": 112,
   "metadata": {
    "id": "7WSxUZQP5fEi"
   },
   "outputs": [],
   "source": [
    "df[\"online_order\"] = df[\"online_order\"].replace(\"Yes\",True)\n",
    "df[\"online_order\"] = df[\"online_order\"].replace(\"No\",False)"
   ]
  },
  {
   "cell_type": "code",
   "execution_count": 113,
   "metadata": {
    "colab": {
     "base_uri": "https://localhost:8080/"
    },
    "id": "VrZgugwT448V",
    "outputId": "93e78844-a1a0-43ec-a7fe-22fc5404f883"
   },
   "outputs": [
    {
     "data": {
      "text/plain": [
       "No     45268\n",
       "Yes     6449\n",
       "Name: book_table, dtype: int64"
      ]
     },
     "execution_count": 113,
     "metadata": {},
     "output_type": "execute_result"
    }
   ],
   "source": [
    "df[\"book_table\"].value_counts()"
   ]
  },
  {
   "cell_type": "code",
   "execution_count": 114,
   "metadata": {
    "id": "Z10eoB936W6b"
   },
   "outputs": [],
   "source": [
    "df[\"book_table\"] = df[\"book_table\"].replace(\"Yes\",True)\n",
    "df[\"book_table\"] = df[\"book_table\"].replace(\"No\",False)"
   ]
  },
  {
   "cell_type": "code",
   "execution_count": 115,
   "metadata": {
    "colab": {
     "base_uri": "https://localhost:8080/"
    },
    "id": "Bp7msIkO6o5N",
    "outputId": "2b239c9d-7b60-494b-bd59-a5c62f66a35e"
   },
   "outputs": [
    {
     "name": "stdout",
     "output_type": "stream",
     "text": [
      "<class 'pandas.core.frame.DataFrame'>\n",
      "RangeIndex: 51717 entries, 0 to 51716\n",
      "Data columns (total 13 columns):\n",
      " #   Column           Non-Null Count  Dtype  \n",
      "---  ------           --------------  -----  \n",
      " 0   name             51717 non-null  object \n",
      " 1   online_order     51717 non-null  bool   \n",
      " 2   book_table       51717 non-null  bool   \n",
      " 3   rate             51717 non-null  float64\n",
      " 4   votes            51717 non-null  int64  \n",
      " 5   location         51717 non-null  object \n",
      " 6   rest_type        51717 non-null  object \n",
      " 7   cuisines         51717 non-null  object \n",
      " 8   approx_cost      51717 non-null  float64\n",
      " 9   reviews_list     51717 non-null  object \n",
      " 10  menu_item        51717 non-null  object \n",
      " 11  listed_in(type)  51717 non-null  object \n",
      " 12  listed_in(city)  51717 non-null  object \n",
      "dtypes: bool(2), float64(2), int64(1), object(8)\n",
      "memory usage: 4.4+ MB\n"
     ]
    }
   ],
   "source": [
    "df.info()"
   ]
  },
  {
   "cell_type": "code",
   "execution_count": 116,
   "metadata": {
    "colab": {
     "base_uri": "https://localhost:8080/"
    },
    "id": "eeeHdVZo6vsv",
    "outputId": "bc0d83a9-aeee-40fc-c4db-eb9c1df03f82"
   },
   "outputs": [
    {
     "data": {
      "text/plain": [
       "Quick Bites                   19132\n",
       "Casual Dining                 10557\n",
       "Cafe                           3732\n",
       "Delivery                       2604\n",
       "Dessert Parlor                 2263\n",
       "                              ...  \n",
       "Dessert Parlor, Kiosk             2\n",
       "Food Court, Beverage Shop         2\n",
       "Dessert Parlor, Food Court        2\n",
       "Sweet Shop, Dessert Parlor        1\n",
       "Quick Bites, Kiosk                1\n",
       "Name: rest_type, Length: 93, dtype: int64"
      ]
     },
     "execution_count": 116,
     "metadata": {},
     "output_type": "execute_result"
    }
   ],
   "source": [
    "df['rest_type'].value_counts()"
   ]
  },
  {
   "cell_type": "markdown",
   "metadata": {
    "id": "paB2g3tpT0-N"
   },
   "source": [
    "# Checking avg.cost of Dining based on Area\n",
    "\n",
    "*   Looking for areas with higher and lower dining costs\n",
    "*   Identifying area with best value for money food\n",
    "\n"
   ]
  },
  {
   "cell_type": "code",
   "execution_count": 117,
   "metadata": {
    "id": "Omz5JMnPT0me"
   },
   "outputs": [],
   "source": [
    "cost_df = df[['location','approx_cost']]"
   ]
  },
  {
   "cell_type": "markdown",
   "metadata": {},
   "source": [
    "Calculating average cost by grouping into respective areas"
   ]
  },
  {
   "cell_type": "code",
   "execution_count": 118,
   "metadata": {
    "id": "Ke9UfElbSljo"
   },
   "outputs": [],
   "source": [
    "cost_df = cost_df.groupby('location').mean()"
   ]
  },
  {
   "cell_type": "code",
   "execution_count": 119,
   "metadata": {
    "colab": {
     "base_uri": "https://localhost:8080/",
     "height": 745
    },
    "id": "DsyB-cNkUVmG",
    "outputId": "fae809a7-8013-4b0a-832d-27d01d37f861"
   },
   "outputs": [
    {
     "data": {
      "text/plain": [
       "<AxesSubplot:xlabel='location'>"
      ]
     },
     "execution_count": 119,
     "metadata": {},
     "output_type": "execute_result"
    },
    {
     "data": {
      "image/png": "[encoded data removed]",
      "text/plain": [
       "<Figure size 720x720 with 1 Axes>"
      ]
     },
     "metadata": {
      "needs_background": "light"
     },
     "output_type": "display_data"
    }
   ],
   "source": [
    "cost_df = cost_df.head(50)\n",
    "cost_df.plot(kind='bar',\n",
    "             figsize=(10,10))"
   ]
  },
  {
   "cell_type": "code",
   "execution_count": 120,
   "metadata": {
    "id": "ILB2zhkPUa-Z"
   },
   "outputs": [],
   "source": [
    "cost_df = cost_df.sort_values(\"approx_cost\",ascending=True)"
   ]
  },
  {
   "cell_type": "markdown",
   "metadata": {},
   "source": [
    "# Lower costing areas"
   ]
  },
  {
   "cell_type": "code",
   "execution_count": 121,
   "metadata": {
    "colab": {
     "base_uri": "https://localhost:8080/",
     "height": 237
    },
    "id": "eeXY0sPQVHad",
    "outputId": "8fc9e77d-764f-48df-d5fe-7b8c21c81c43"
   },
   "outputs": [
    {
     "data": {
      "text/html": [
       "<div>\n",
       "<style scoped>\n",
       "    .dataframe tbody tr th:only-of-type {\n",
       "        vertical-align: middle;\n",
       "    }\n",
       "\n",
       "    .dataframe tbody tr th {\n",
       "        vertical-align: top;\n",
       "    }\n",
       "\n",
       "    .dataframe thead th {\n",
       "        text-align: right;\n",
       "    }\n",
       "</style>\n",
       "<table border=\"1\" class=\"dataframe\">\n",
       "  <thead>\n",
       "    <tr style=\"text-align: right;\">\n",
       "      <th></th>\n",
       "      <th>approx_cost</th>\n",
       "    </tr>\n",
       "    <tr>\n",
       "      <th>location</th>\n",
       "      <th></th>\n",
       "    </tr>\n",
       "  </thead>\n",
       "  <tbody>\n",
       "    <tr>\n",
       "      <th>City Market</th>\n",
       "      <td>304.376441</td>\n",
       "    </tr>\n",
       "    <tr>\n",
       "      <th>CV Raman Nagar</th>\n",
       "      <td>311.111111</td>\n",
       "    </tr>\n",
       "    <tr>\n",
       "      <th>Ejipura</th>\n",
       "      <td>323.182592</td>\n",
       "    </tr>\n",
       "    <tr>\n",
       "      <th>KR Puram</th>\n",
       "      <td>347.222222</td>\n",
       "    </tr>\n",
       "    <tr>\n",
       "      <th>Basavanagudi</th>\n",
       "      <td>360.979532</td>\n",
       "    </tr>\n",
       "  </tbody>\n",
       "</table>\n",
       "</div>"
      ],
      "text/plain": [
       "                approx_cost\n",
       "location                   \n",
       "City Market      304.376441\n",
       "CV Raman Nagar   311.111111\n",
       "Ejipura          323.182592\n",
       "KR Puram         347.222222\n",
       "Basavanagudi     360.979532"
      ]
     },
     "execution_count": 121,
     "metadata": {},
     "output_type": "execute_result"
    }
   ],
   "source": [
    "cost_df.head(5)"
   ]
  },
  {
   "cell_type": "markdown",
   "metadata": {},
   "source": [
    "# Higher costing areas"
   ]
  },
  {
   "cell_type": "code",
   "execution_count": 122,
   "metadata": {
    "colab": {
     "base_uri": "https://localhost:8080/",
     "height": 237
    },
    "id": "jgZ4yRMWWW5i",
    "outputId": "57cd3f38-88c2-4349-eb3b-c59b833ff65a"
   },
   "outputs": [
    {
     "data": {
      "text/html": [
       "<div>\n",
       "<style scoped>\n",
       "    .dataframe tbody tr th:only-of-type {\n",
       "        vertical-align: middle;\n",
       "    }\n",
       "\n",
       "    .dataframe tbody tr th {\n",
       "        vertical-align: top;\n",
       "    }\n",
       "\n",
       "    .dataframe thead th {\n",
       "        text-align: right;\n",
       "    }\n",
       "</style>\n",
       "<table border=\"1\" class=\"dataframe\">\n",
       "  <thead>\n",
       "    <tr style=\"text-align: right;\">\n",
       "      <th></th>\n",
       "      <th>approx_cost</th>\n",
       "    </tr>\n",
       "    <tr>\n",
       "      <th>location</th>\n",
       "      <th></th>\n",
       "    </tr>\n",
       "  </thead>\n",
       "  <tbody>\n",
       "    <tr>\n",
       "      <th>Koramangala 4th Block</th>\n",
       "      <td>696.361849</td>\n",
       "    </tr>\n",
       "    <tr>\n",
       "      <th>Koramangala 3rd Block</th>\n",
       "      <td>778.472222</td>\n",
       "    </tr>\n",
       "    <tr>\n",
       "      <th>Church Street</th>\n",
       "      <td>834.885764</td>\n",
       "    </tr>\n",
       "    <tr>\n",
       "      <th>Cunningham Road</th>\n",
       "      <td>864.969450</td>\n",
       "    </tr>\n",
       "    <tr>\n",
       "      <th>Infantry Road</th>\n",
       "      <td>1062.251656</td>\n",
       "    </tr>\n",
       "  </tbody>\n",
       "</table>\n",
       "</div>"
      ],
      "text/plain": [
       "                       approx_cost\n",
       "location                          \n",
       "Koramangala 4th Block   696.361849\n",
       "Koramangala 3rd Block   778.472222\n",
       "Church Street           834.885764\n",
       "Cunningham Road         864.969450\n",
       "Infantry Road          1062.251656"
      ]
     },
     "execution_count": 122,
     "metadata": {},
     "output_type": "execute_result"
    }
   ],
   "source": [
    "cost_df.tail(5)"
   ]
  },
  {
   "cell_type": "markdown",
   "metadata": {
    "id": "pCKMzEAPfFbW"
   },
   "source": [
    "# Value for money\n",
    "Rating/avg. cost"
   ]
  },
  {
   "cell_type": "code",
   "execution_count": null,
   "metadata": {
    "colab": {
     "base_uri": "https://localhost:8080/"
    },
    "id": "VnseXjgAWjfI",
    "outputId": "02206286-4c6a-455b-f0a5-444970b4ec8b"
   },
   "outputs": [],
   "source": [
    "value_for_money = df[['location','rate','approx_cost']]\n",
    "value_for_money['rate_per_money'] = value_for_money['rate']/value_for_money['approx_cost']*100\n",
    "value_for_money = value_for_money.groupby('location')['rate_per_money'].mean()"
   ]
  },
  {
   "cell_type": "code",
   "execution_count": 124,
   "metadata": {
    "colab": {
     "base_uri": "https://localhost:8080/"
    },
    "id": "bOFe5wAsgIG_",
    "outputId": "ad6ebed4-79ca-4cb8-f49f-6de8e236e381"
   },
   "outputs": [
    {
     "data": {
      "text/plain": [
       "location\n",
       "BTM                  1.148264\n",
       "Banashankari         1.250318\n",
       "Banaswadi            1.169924\n",
       "Bannerghatta Road    1.046552\n",
       "Basavanagudi         1.562460\n",
       "                       ...   \n",
       "West Bangalore       1.183433\n",
       "Whitefield           0.897233\n",
       "Wilson Garden        1.120855\n",
       "Yelahanka            1.109037\n",
       "Yeshwantpur          1.017306\n",
       "Name: rate_per_money, Length: 93, dtype: float64"
      ]
     },
     "execution_count": 124,
     "metadata": {},
     "output_type": "execute_result"
    }
   ],
   "source": [
    "value_for_money"
   ]
  },
  {
   "cell_type": "code",
   "execution_count": 125,
   "metadata": {
    "id": "CyeLnWoshUWo"
   },
   "outputs": [],
   "source": [
    "value_for_money = value_for_money.sort_values(ascending=False)"
   ]
  },
  {
   "cell_type": "markdown",
   "metadata": {},
   "source": [
    "# Waste of money"
   ]
  },
  {
   "cell_type": "code",
   "execution_count": 126,
   "metadata": {
    "colab": {
     "base_uri": "https://localhost:8080/"
    },
    "id": "QEb7HA-yjrPE",
    "outputId": "a093a570-7d58-4773-b864-cc8e8cb245c5"
   },
   "outputs": [
    {
     "data": {
      "text/plain": [
       "location\n",
       "Langford Town       0.488677\n",
       "Infantry Road       0.486607\n",
       "Lavelle Road        0.466284\n",
       "Race Course Road    0.437861\n",
       "Sankey Road         0.219534\n",
       "Name: rate_per_money, dtype: float64"
      ]
     },
     "execution_count": 126,
     "metadata": {},
     "output_type": "execute_result"
    }
   ],
   "source": [
    "value_for_money.tail(5)"
   ]
  },
  {
   "cell_type": "markdown",
   "metadata": {},
   "source": [
    "# Value for money"
   ]
  },
  {
   "cell_type": "code",
   "execution_count": 127,
   "metadata": {
    "colab": {
     "base_uri": "https://localhost:8080/"
    },
    "id": "yWvMYyyhjvfC",
    "outputId": "3cb9d96a-403c-432e-bd96-a43a85aeeacf"
   },
   "outputs": [
    {
     "data": {
      "text/plain": [
       "location\n",
       "Basavanagudi         1.562460\n",
       "Shivajinagar         1.527648\n",
       "City Market          1.511039\n",
       "Ejipura              1.424264\n",
       "CV Raman Nagar       1.382406\n",
       "Vijay Nagar          1.348455\n",
       "Commercial Street    1.337187\n",
       "Majestic             1.333547\n",
       "Thippasandra         1.272261\n",
       "Hebbal               1.265919\n",
       "Name: rate_per_money, dtype: float64"
      ]
     },
     "execution_count": 127,
     "metadata": {},
     "output_type": "execute_result"
    }
   ],
   "source": [
    "value_for_money.head(10)"
   ]
  },
  {
   "cell_type": "code",
   "execution_count": 128,
   "metadata": {
    "colab": {
     "base_uri": "https://localhost:8080/",
     "height": 762
    },
    "id": "eJyxbVJGhDsZ",
    "outputId": "997d16b2-3866-4f65-bd9d-983660e50ca0"
   },
   "outputs": [
    {
     "data": {
      "text/plain": [
       "<AxesSubplot:xlabel='location'>"
      ]
     },
     "execution_count": 128,
     "metadata": {},
     "output_type": "execute_result"
    },
    {
     "data": {
      "image/png": "[encoded data removed]",
      "text/plain": [
       "<Figure size 720x720 with 1 Axes>"
      ]
     },
     "metadata": {
      "needs_background": "light"
     },
     "output_type": "display_data"
    }
   ],
   "source": [
    "value_for_money = value_for_money.head(25)\n",
    "value_for_money.plot(kind='bar',\n",
    "                     y = 'rate_per_money',\n",
    "                     figsize=(10,10))"
   ]
  },
  {
   "cell_type": "markdown",
   "metadata": {
    "id": "bOw7udSvlUTD"
   },
   "source": [
    "# Does higher approx_cost mean better food??\n"
   ]
  },
  {
   "cell_type": "code",
   "execution_count": 129,
   "metadata": {
    "id": "7xQfrHl502BG"
   },
   "outputs": [],
   "source": [
    "cost_vs_food = df[['approx_cost','rate']]"
   ]
  },
  {
   "cell_type": "code",
   "execution_count": 130,
   "metadata": {
    "id": "rSBnHYu81EFc"
   },
   "outputs": [],
   "source": [
    "cost_vs_food = np.array(cost_vs_food)"
   ]
  },
  {
   "cell_type": "code",
   "execution_count": 131,
   "metadata": {
    "id": "NvB_cV1I6bHL"
   },
   "outputs": [],
   "source": [
    "from scipy.stats import pearsonr"
   ]
  },
  {
   "cell_type": "code",
   "execution_count": 132,
   "metadata": {
    "id": "TDWXG2006dca"
   },
   "outputs": [],
   "source": [
    "corr, _ = pearsonr(cost_vs_food[:,1], cost_vs_food[:,0])"
   ]
  },
  {
   "cell_type": "code",
   "execution_count": 133,
   "metadata": {
    "colab": {
     "base_uri": "https://localhost:8080/"
    },
    "id": "heh8zNjz9bXU",
    "outputId": "ab6cbad7-75d2-43ce-8a28-6691469b5580"
   },
   "outputs": [
    {
     "data": {
      "text/plain": [
       "0.3649343037720216"
      ]
     },
     "execution_count": 133,
     "metadata": {},
     "output_type": "execute_result"
    }
   ],
   "source": [
    "corr"
   ]
  },
  {
   "cell_type": "code",
   "execution_count": 134,
   "metadata": {
    "id": "R-ykrXSY9lzM"
   },
   "outputs": [],
   "source": [
    "from scipy.stats import spearmanr"
   ]
  },
  {
   "cell_type": "code",
   "execution_count": 135,
   "metadata": {
    "id": "EOWd0PIu97Yv"
   },
   "outputs": [],
   "source": [
    "corr, _ = spearmanr(cost_vs_food[:,1], cost_vs_food[:,0])"
   ]
  },
  {
   "cell_type": "code",
   "execution_count": 136,
   "metadata": {
    "colab": {
     "base_uri": "https://localhost:8080/"
    },
    "id": "LU0YHNha-DKQ",
    "outputId": "be9a5e8a-2da8-49fc-c608-c5b8f91cacca"
   },
   "outputs": [
    {
     "data": {
      "text/plain": [
       "0.3373743766564666"
      ]
     },
     "execution_count": 136,
     "metadata": {},
     "output_type": "execute_result"
    }
   ],
   "source": [
    "corr"
   ]
  },
  {
   "cell_type": "markdown",
   "metadata": {},
   "source": [
    "Correlation of 0.34 and 0.36 imply medium level of correlation but not significant as well.\n",
    "\n",
    " So, you can bet that you can find above average food at expensive restraunts"
   ]
  },
  {
   "cell_type": "markdown",
   "metadata": {
    "id": "P6T5ydImooAS"
   },
   "source": [
    "# Handling Multi Category variables\n",
    "*   Creating a One Hot encoding for categorical features\n",
    "*   Considering only 'n' most frequently seen variable\n",
    "\n",
    "Label Encoding : \n",
    "\n",
    "apple = 1\n",
    "\n",
    "orange = 2\n",
    "\n",
    "mango = 0\n",
    "\n",
    "One-Hot Encoding:\n",
    "\n",
    "apple = [0,1,0]\n",
    "\n",
    "orange = [0,0,2]\n",
    "\n",
    "mango = [1,0,0]"
   ]
  },
  {
   "cell_type": "code",
   "execution_count": 137,
   "metadata": {
    "id": "5r1bWFHXodyN"
   },
   "outputs": [],
   "source": [
    "def one_hot_encoding(df,column):\n",
    "  most_freq = df[column].value_counts().sort_values(ascending=False).head(10).index\n",
    "  for label in most_freq:\n",
    "    df[label+'_loc'] = np.where(df[column]==label,1,0)"
   ]
  },
  {
   "cell_type": "code",
   "execution_count": 138,
   "metadata": {
    "id": "hwCGXZwPGSsT"
   },
   "outputs": [],
   "source": [
    "one_hot_encoding(df,'location')"
   ]
  },
  {
   "cell_type": "code",
   "execution_count": 139,
   "metadata": {
    "colab": {
     "base_uri": "https://localhost:8080/",
     "height": 1000
    },
    "id": "13geHN5tvrCi",
    "outputId": "cdb5825d-b8a1-4b95-a7a9-a77a6de22045"
   },
   "outputs": [
    {
     "data": {
      "text/html": [
       "<div>\n",
       "<style scoped>\n",
       "    .dataframe tbody tr th:only-of-type {\n",
       "        vertical-align: middle;\n",
       "    }\n",
       "\n",
       "    .dataframe tbody tr th {\n",
       "        vertical-align: top;\n",
       "    }\n",
       "\n",
       "    .dataframe thead th {\n",
       "        text-align: right;\n",
       "    }\n",
       "</style>\n",
       "<table border=\"1\" class=\"dataframe\">\n",
       "  <thead>\n",
       "    <tr style=\"text-align: right;\">\n",
       "      <th></th>\n",
       "      <th>name</th>\n",
       "      <th>online_order</th>\n",
       "      <th>book_table</th>\n",
       "      <th>rate</th>\n",
       "      <th>votes</th>\n",
       "      <th>location</th>\n",
       "      <th>rest_type</th>\n",
       "      <th>cuisines</th>\n",
       "      <th>approx_cost</th>\n",
       "      <th>reviews_list</th>\n",
       "      <th>...</th>\n",
       "      <th>BTM_loc</th>\n",
       "      <th>HSR_loc</th>\n",
       "      <th>Koramangala 5th Block_loc</th>\n",
       "      <th>JP Nagar_loc</th>\n",
       "      <th>Whitefield_loc</th>\n",
       "      <th>Indiranagar_loc</th>\n",
       "      <th>Jayanagar_loc</th>\n",
       "      <th>Marathahalli_loc</th>\n",
       "      <th>Bannerghatta Road_loc</th>\n",
       "      <th>Bellandur_loc</th>\n",
       "    </tr>\n",
       "  </thead>\n",
       "  <tbody>\n",
       "    <tr>\n",
       "      <th>0</th>\n",
       "      <td>Jalsa</td>\n",
       "      <td>True</td>\n",
       "      <td>True</td>\n",
       "      <td>4.100000</td>\n",
       "      <td>775</td>\n",
       "      <td>Banashankari</td>\n",
       "      <td>Casual Dining</td>\n",
       "      <td>North Indian, Mughlai, Chinese</td>\n",
       "      <td>800.0</td>\n",
       "      <td>[('Rated 4.0', 'RATED\\n  A beautiful place to ...</td>\n",
       "      <td>...</td>\n",
       "      <td>0</td>\n",
       "      <td>0</td>\n",
       "      <td>0</td>\n",
       "      <td>0</td>\n",
       "      <td>0</td>\n",
       "      <td>0</td>\n",
       "      <td>0</td>\n",
       "      <td>0</td>\n",
       "      <td>0</td>\n",
       "      <td>0</td>\n",
       "    </tr>\n",
       "    <tr>\n",
       "      <th>1</th>\n",
       "      <td>Spice Elephant</td>\n",
       "      <td>True</td>\n",
       "      <td>False</td>\n",
       "      <td>4.100000</td>\n",
       "      <td>787</td>\n",
       "      <td>Banashankari</td>\n",
       "      <td>Casual Dining</td>\n",
       "      <td>Chinese, North Indian, Thai</td>\n",
       "      <td>800.0</td>\n",
       "      <td>[('Rated 4.0', 'RATED\\n  Had been here for din...</td>\n",
       "      <td>...</td>\n",
       "      <td>0</td>\n",
       "      <td>0</td>\n",
       "      <td>0</td>\n",
       "      <td>0</td>\n",
       "      <td>0</td>\n",
       "      <td>0</td>\n",
       "      <td>0</td>\n",
       "      <td>0</td>\n",
       "      <td>0</td>\n",
       "      <td>0</td>\n",
       "    </tr>\n",
       "    <tr>\n",
       "      <th>2</th>\n",
       "      <td>San Churro Cafe</td>\n",
       "      <td>True</td>\n",
       "      <td>False</td>\n",
       "      <td>3.800000</td>\n",
       "      <td>918</td>\n",
       "      <td>Banashankari</td>\n",
       "      <td>Cafe, Casual Dining</td>\n",
       "      <td>Cafe, Mexican, Italian</td>\n",
       "      <td>800.0</td>\n",
       "      <td>[('Rated 3.0', \"RATED\\n  Ambience is not that ...</td>\n",
       "      <td>...</td>\n",
       "      <td>0</td>\n",
       "      <td>0</td>\n",
       "      <td>0</td>\n",
       "      <td>0</td>\n",
       "      <td>0</td>\n",
       "      <td>0</td>\n",
       "      <td>0</td>\n",
       "      <td>0</td>\n",
       "      <td>0</td>\n",
       "      <td>0</td>\n",
       "    </tr>\n",
       "    <tr>\n",
       "      <th>3</th>\n",
       "      <td>Addhuri Udupi Bhojana</td>\n",
       "      <td>False</td>\n",
       "      <td>False</td>\n",
       "      <td>3.700000</td>\n",
       "      <td>88</td>\n",
       "      <td>Banashankari</td>\n",
       "      <td>Quick Bites</td>\n",
       "      <td>South Indian, North Indian</td>\n",
       "      <td>300.0</td>\n",
       "      <td>[('Rated 4.0', \"RATED\\n  Great food and proper...</td>\n",
       "      <td>...</td>\n",
       "      <td>0</td>\n",
       "      <td>0</td>\n",
       "      <td>0</td>\n",
       "      <td>0</td>\n",
       "      <td>0</td>\n",
       "      <td>0</td>\n",
       "      <td>0</td>\n",
       "      <td>0</td>\n",
       "      <td>0</td>\n",
       "      <td>0</td>\n",
       "    </tr>\n",
       "    <tr>\n",
       "      <th>4</th>\n",
       "      <td>Grand Village</td>\n",
       "      <td>False</td>\n",
       "      <td>False</td>\n",
       "      <td>3.800000</td>\n",
       "      <td>166</td>\n",
       "      <td>Basavanagudi</td>\n",
       "      <td>Casual Dining</td>\n",
       "      <td>North Indian, Rajasthani</td>\n",
       "      <td>600.0</td>\n",
       "      <td>[('Rated 4.0', 'RATED\\n  Very good restaurant ...</td>\n",
       "      <td>...</td>\n",
       "      <td>0</td>\n",
       "      <td>0</td>\n",
       "      <td>0</td>\n",
       "      <td>0</td>\n",
       "      <td>0</td>\n",
       "      <td>0</td>\n",
       "      <td>0</td>\n",
       "      <td>0</td>\n",
       "      <td>0</td>\n",
       "      <td>0</td>\n",
       "    </tr>\n",
       "    <tr>\n",
       "      <th>...</th>\n",
       "      <td>...</td>\n",
       "      <td>...</td>\n",
       "      <td>...</td>\n",
       "      <td>...</td>\n",
       "      <td>...</td>\n",
       "      <td>...</td>\n",
       "      <td>...</td>\n",
       "      <td>...</td>\n",
       "      <td>...</td>\n",
       "      <td>...</td>\n",
       "      <td>...</td>\n",
       "      <td>...</td>\n",
       "      <td>...</td>\n",
       "      <td>...</td>\n",
       "      <td>...</td>\n",
       "      <td>...</td>\n",
       "      <td>...</td>\n",
       "      <td>...</td>\n",
       "      <td>...</td>\n",
       "      <td>...</td>\n",
       "      <td>...</td>\n",
       "    </tr>\n",
       "    <tr>\n",
       "      <th>51712</th>\n",
       "      <td>Best Brews - Four Points by Sheraton Bengaluru...</td>\n",
       "      <td>False</td>\n",
       "      <td>False</td>\n",
       "      <td>3.600000</td>\n",
       "      <td>27</td>\n",
       "      <td>Whitefield</td>\n",
       "      <td>Bar</td>\n",
       "      <td>Continental</td>\n",
       "      <td>1500.0</td>\n",
       "      <td>[('Rated 5.0', \"RATED\\n  Food and service are ...</td>\n",
       "      <td>...</td>\n",
       "      <td>0</td>\n",
       "      <td>0</td>\n",
       "      <td>0</td>\n",
       "      <td>0</td>\n",
       "      <td>1</td>\n",
       "      <td>0</td>\n",
       "      <td>0</td>\n",
       "      <td>0</td>\n",
       "      <td>0</td>\n",
       "      <td>0</td>\n",
       "    </tr>\n",
       "    <tr>\n",
       "      <th>51713</th>\n",
       "      <td>Vinod Bar And Restaurant</td>\n",
       "      <td>False</td>\n",
       "      <td>False</td>\n",
       "      <td>3.700449</td>\n",
       "      <td>0</td>\n",
       "      <td>Whitefield</td>\n",
       "      <td>Bar</td>\n",
       "      <td>Finger Food</td>\n",
       "      <td>600.0</td>\n",
       "      <td>[]</td>\n",
       "      <td>...</td>\n",
       "      <td>0</td>\n",
       "      <td>0</td>\n",
       "      <td>0</td>\n",
       "      <td>0</td>\n",
       "      <td>1</td>\n",
       "      <td>0</td>\n",
       "      <td>0</td>\n",
       "      <td>0</td>\n",
       "      <td>0</td>\n",
       "      <td>0</td>\n",
       "    </tr>\n",
       "    <tr>\n",
       "      <th>51714</th>\n",
       "      <td>Plunge - Sheraton Grand Bengaluru Whitefield H...</td>\n",
       "      <td>False</td>\n",
       "      <td>False</td>\n",
       "      <td>3.700449</td>\n",
       "      <td>0</td>\n",
       "      <td>Whitefield</td>\n",
       "      <td>Bar</td>\n",
       "      <td>Finger Food</td>\n",
       "      <td>2000.0</td>\n",
       "      <td>[]</td>\n",
       "      <td>...</td>\n",
       "      <td>0</td>\n",
       "      <td>0</td>\n",
       "      <td>0</td>\n",
       "      <td>0</td>\n",
       "      <td>1</td>\n",
       "      <td>0</td>\n",
       "      <td>0</td>\n",
       "      <td>0</td>\n",
       "      <td>0</td>\n",
       "      <td>0</td>\n",
       "    </tr>\n",
       "    <tr>\n",
       "      <th>51715</th>\n",
       "      <td>Chime - Sheraton Grand Bengaluru Whitefield Ho...</td>\n",
       "      <td>False</td>\n",
       "      <td>True</td>\n",
       "      <td>4.300000</td>\n",
       "      <td>236</td>\n",
       "      <td>ITPL Main Road, Whitefield</td>\n",
       "      <td>Bar</td>\n",
       "      <td>Finger Food</td>\n",
       "      <td>2500.0</td>\n",
       "      <td>[('Rated 4.0', 'RATED\\n  Nice and friendly pla...</td>\n",
       "      <td>...</td>\n",
       "      <td>0</td>\n",
       "      <td>0</td>\n",
       "      <td>0</td>\n",
       "      <td>0</td>\n",
       "      <td>0</td>\n",
       "      <td>0</td>\n",
       "      <td>0</td>\n",
       "      <td>0</td>\n",
       "      <td>0</td>\n",
       "      <td>0</td>\n",
       "    </tr>\n",
       "    <tr>\n",
       "      <th>51716</th>\n",
       "      <td>The Nest - The Den Bengaluru</td>\n",
       "      <td>False</td>\n",
       "      <td>False</td>\n",
       "      <td>3.400000</td>\n",
       "      <td>13</td>\n",
       "      <td>ITPL Main Road, Whitefield</td>\n",
       "      <td>Bar, Casual Dining</td>\n",
       "      <td>Finger Food, North Indian, Continental</td>\n",
       "      <td>1500.0</td>\n",
       "      <td>[('Rated 5.0', 'RATED\\n  Great ambience , look...</td>\n",
       "      <td>...</td>\n",
       "      <td>0</td>\n",
       "      <td>0</td>\n",
       "      <td>0</td>\n",
       "      <td>0</td>\n",
       "      <td>0</td>\n",
       "      <td>0</td>\n",
       "      <td>0</td>\n",
       "      <td>0</td>\n",
       "      <td>0</td>\n",
       "      <td>0</td>\n",
       "    </tr>\n",
       "  </tbody>\n",
       "</table>\n",
       "<p>51717 rows × 23 columns</p>\n",
       "</div>"
      ],
      "text/plain": [
       "                                                    name  online_order  \\\n",
       "0                                                  Jalsa          True   \n",
       "1                                         Spice Elephant          True   \n",
       "2                                        San Churro Cafe          True   \n",
       "3                                  Addhuri Udupi Bhojana         False   \n",
       "4                                          Grand Village         False   \n",
       "...                                                  ...           ...   \n",
       "51712  Best Brews - Four Points by Sheraton Bengaluru...         False   \n",
       "51713                           Vinod Bar And Restaurant         False   \n",
       "51714  Plunge - Sheraton Grand Bengaluru Whitefield H...         False   \n",
       "51715  Chime - Sheraton Grand Bengaluru Whitefield Ho...         False   \n",
       "51716                       The Nest - The Den Bengaluru         False   \n",
       "\n",
       "       book_table      rate  votes                    location  \\\n",
       "0            True  4.100000    775                Banashankari   \n",
       "1           False  4.100000    787                Banashankari   \n",
       "2           False  3.800000    918                Banashankari   \n",
       "3           False  3.700000     88                Banashankari   \n",
       "4           False  3.800000    166                Basavanagudi   \n",
       "...           ...       ...    ...                         ...   \n",
       "51712       False  3.600000     27                  Whitefield   \n",
       "51713       False  3.700449      0                  Whitefield   \n",
       "51714       False  3.700449      0                  Whitefield   \n",
       "51715        True  4.300000    236  ITPL Main Road, Whitefield   \n",
       "51716       False  3.400000     13  ITPL Main Road, Whitefield   \n",
       "\n",
       "                 rest_type                                cuisines  \\\n",
       "0            Casual Dining          North Indian, Mughlai, Chinese   \n",
       "1            Casual Dining             Chinese, North Indian, Thai   \n",
       "2      Cafe, Casual Dining                  Cafe, Mexican, Italian   \n",
       "3              Quick Bites              South Indian, North Indian   \n",
       "4            Casual Dining                North Indian, Rajasthani   \n",
       "...                    ...                                     ...   \n",
       "51712                  Bar                             Continental   \n",
       "51713                  Bar                             Finger Food   \n",
       "51714                  Bar                             Finger Food   \n",
       "51715                  Bar                             Finger Food   \n",
       "51716   Bar, Casual Dining  Finger Food, North Indian, Continental   \n",
       "\n",
       "       approx_cost                                       reviews_list  ...  \\\n",
       "0            800.0  [('Rated 4.0', 'RATED\\n  A beautiful place to ...  ...   \n",
       "1            800.0  [('Rated 4.0', 'RATED\\n  Had been here for din...  ...   \n",
       "2            800.0  [('Rated 3.0', \"RATED\\n  Ambience is not that ...  ...   \n",
       "3            300.0  [('Rated 4.0', \"RATED\\n  Great food and proper...  ...   \n",
       "4            600.0  [('Rated 4.0', 'RATED\\n  Very good restaurant ...  ...   \n",
       "...            ...                                                ...  ...   \n",
       "51712       1500.0  [('Rated 5.0', \"RATED\\n  Food and service are ...  ...   \n",
       "51713        600.0                                                 []  ...   \n",
       "51714       2000.0                                                 []  ...   \n",
       "51715       2500.0  [('Rated 4.0', 'RATED\\n  Nice and friendly pla...  ...   \n",
       "51716       1500.0  [('Rated 5.0', 'RATED\\n  Great ambience , look...  ...   \n",
       "\n",
       "      BTM_loc HSR_loc Koramangala 5th Block_loc  JP Nagar_loc  Whitefield_loc  \\\n",
       "0           0       0                         0             0               0   \n",
       "1           0       0                         0             0               0   \n",
       "2           0       0                         0             0               0   \n",
       "3           0       0                         0             0               0   \n",
       "4           0       0                         0             0               0   \n",
       "...       ...     ...                       ...           ...             ...   \n",
       "51712       0       0                         0             0               1   \n",
       "51713       0       0                         0             0               1   \n",
       "51714       0       0                         0             0               1   \n",
       "51715       0       0                         0             0               0   \n",
       "51716       0       0                         0             0               0   \n",
       "\n",
       "       Indiranagar_loc  Jayanagar_loc  Marathahalli_loc  \\\n",
       "0                    0              0                 0   \n",
       "1                    0              0                 0   \n",
       "2                    0              0                 0   \n",
       "3                    0              0                 0   \n",
       "4                    0              0                 0   \n",
       "...                ...            ...               ...   \n",
       "51712                0              0                 0   \n",
       "51713                0              0                 0   \n",
       "51714                0              0                 0   \n",
       "51715                0              0                 0   \n",
       "51716                0              0                 0   \n",
       "\n",
       "       Bannerghatta Road_loc  Bellandur_loc  \n",
       "0                          0              0  \n",
       "1                          0              0  \n",
       "2                          0              0  \n",
       "3                          0              0  \n",
       "4                          0              0  \n",
       "...                      ...            ...  \n",
       "51712                      0              0  \n",
       "51713                      0              0  \n",
       "51714                      0              0  \n",
       "51715                      0              0  \n",
       "51716                      0              0  \n",
       "\n",
       "[51717 rows x 23 columns]"
      ]
     },
     "execution_count": 139,
     "metadata": {},
     "output_type": "execute_result"
    }
   ],
   "source": [
    "df"
   ]
  }
 ],
 "metadata": {
  "colab": {
   "collapsed_sections": [],
   "name": "exploratory-data-analysis.ipynb",
   "provenance": []
  },
  "kernelspec": {
   "display_name": "Python 3 (ipykernel)",
   "language": "python",
   "name": "python3"
  },
  "language_info": {
   "codemirror_mode": {
    "name": "ipython",
    "version": 3
   },
   "file_extension": ".py",
   "mimetype": "text/x-python",
   "name": "python",
   "nbconvert_exporter": "python",
   "pygments_lexer": "ipython3",
   "version": "3.9.6"
  }
 },
 "nbformat": 4,
 "nbformat_minor": 1
}
